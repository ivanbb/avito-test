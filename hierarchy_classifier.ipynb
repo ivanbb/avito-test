{
 "cells": [
  {
   "cell_type": "markdown",
   "metadata": {},
   "source": [
    "Скрипт для предсказания категории товара на каждом уровне иерархии."
   ]
  },
  {
   "cell_type": "code",
   "execution_count": 1,
   "metadata": {},
   "outputs": [],
   "source": [
    "import pandas as pd\n",
    "import numpy as np\n",
    "from sklearn.feature_extraction.text import TfidfVectorizer\n",
    "from sklearn.linear_model import SGDClassifier\n",
    "\n",
    "from nltk.tokenize import word_tokenize\n",
    "from nltk.corpus import stopwords\n",
    "from nltk.tokenize import RegexpTokenizer\n",
    "from pymystem3 import Mystem\n",
    "import re\n",
    "\n",
    "import time"
   ]
  },
  {
   "cell_type": "markdown",
   "metadata": {},
   "source": [
    "В качестве предикторов используются описания товаров, соединенные с их заголовками."
   ]
  },
  {
   "cell_type": "code",
   "execution_count": 2,
   "metadata": {},
   "outputs": [],
   "source": [
    "df_categ = pd.read_csv('./data/category.csv', index_col='category_id')\n",
    "df_train = pd.read_csv('./data/train.csv', index_col='item_id')\n",
    "df_train = df_train.rename(columns={'description':'text', 'category_id':'cat_id'})\n",
    "df_train['text'] = (df_train['title'] + ' ') * 2 + df_train['text']\n",
    "df_train = df_train.drop(['title'], axis=1)"
   ]
  },
  {
   "cell_type": "markdown",
   "metadata": {},
   "source": [
    "Разбиение категорий на уровни."
   ]
  },
  {
   "cell_type": "code",
   "execution_count": 3,
   "metadata": {},
   "outputs": [],
   "source": [
    "cats = [cat.split('|') for cat in df_categ.name]\n",
    "cats = pd.DataFrame(cats).fillna(value='None')\n",
    "Y = cats"
   ]
  },
  {
   "cell_type": "markdown",
   "metadata": {},
   "source": [
    "Для каждого уровня иехархии используется свой LabelEncoder для последующего обращения кодирования."
   ]
  },
  {
   "cell_type": "code",
   "execution_count": 4,
   "metadata": {},
   "outputs": [],
   "source": [
    "from sklearn.preprocessing import LabelEncoder\n",
    "le = []\n",
    "le.append(LabelEncoder())\n",
    "Y[0] = le[0].fit_transform(Y[0])\n",
    "\n",
    "le.append(LabelEncoder())\n",
    "Y[1] = le[1].fit_transform(Y[1])\n",
    "\n",
    "le.append(LabelEncoder())\n",
    "Y[2] = le[2].fit_transform(Y[2])\n",
    "\n",
    "le.append(LabelEncoder())\n",
    "Y[3] = le[3].fit_transform(Y[3])\n",
    "\n",
    "Y['cat_id'] = Y.index"
   ]
  },
  {
   "cell_type": "code",
   "execution_count": 5,
   "metadata": {},
   "outputs": [],
   "source": [
    "df = df_train.merge(Y, how='left', on='cat_id')"
   ]
  },
  {
   "cell_type": "markdown",
   "metadata": {},
   "source": [
    "Модель для иерархической класификации реализована в виде класса с двумя интерфейсами:  \n",
    "fit(df) принимает датафрейм с текстом и номерами категорий, созданный выше и обучает модель;  \n",
    "predict(X) принимает текст и выдает массив с предсказанными категориями на каждом уровне.\n",
    "\n",
    "В модели используется отдельный классификатор для каждого уровня иерархии, но для классификации товара на каждом уровне после корневого, к предикторам добавляется предсказанный класс товара на предыдущем уровне.\n",
    "\n",
    "При создании модель получает массив обьектов типа LabelEncoder."
   ]
  },
  {
   "cell_type": "code",
   "execution_count": 6,
   "metadata": {},
   "outputs": [],
   "source": [
    "class HierarchyClassifier():\n",
    "    def __init__(self, encoders):\n",
    "        self.model = [\n",
    "            SGDClassifier(alpha=0.000001, random_state=1, class_weight='balanced', penalty='l2', loss='log', n_jobs=4),\n",
    "            SGDClassifier(alpha=0.000001, random_state=1, class_weight='balanced', penalty='l2', loss='log', n_jobs=4),\n",
    "            SGDClassifier(alpha=0.000001, random_state=1, class_weight='balanced', penalty='l2', loss='log', n_jobs=4),\n",
    "            SGDClassifier(alpha=0.000001, random_state=1, class_weight='balanced', penalty='l2', loss='log', n_jobs=4)\n",
    "        ]\n",
    "        self.encoders = encoders\n",
    "        self.tv = [TfidfVectorizer(min_df=2, ngram_range=(1,3), sublinear_tf=True),\n",
    "                   TfidfVectorizer(min_df=2, ngram_range=(1,3), sublinear_tf=True),\n",
    "                   TfidfVectorizer(min_df=2, ngram_range=(1,3), sublinear_tf=True),\n",
    "                   TfidfVectorizer(min_df=2, ngram_range=(1,3), sublinear_tf=True)]\n",
    "        \n",
    "    def clear_text(self, text):\n",
    "        text = text.lower()\n",
    "        text = re.sub(r'[^a-zA-Zа-яА-Я- ]', '', text)\n",
    "        text = re.sub(r' +', ' ', text)\n",
    "        return text    \n",
    "        \n",
    "    def preproc(self, X):\n",
    "        start_time = time.monotonic()\n",
    "        lemma = Mystem()\n",
    "        tokenizer = RegexpTokenizer(r'\\w+')\n",
    "        X = [self.clear_text(x) for x in X]\n",
    "        dictinar = [tokenizer.tokenize(x) for x in X]\n",
    "        stop = stopwords.words('russian') + ['продать', 'продаваться', 'продоваться', 'купить', 'продавать', 'продажа',\n",
    "                  'новое', 'новый', 'хороший', 'отличный', 'состояние', 'идеальный',\n",
    "                  'торг', 'цена', 'уместный','поэтому', 'также', 'обмен', 'срочно', 'который',\n",
    "                  'сайт', 'это', 'вопрос', 'любой', 'причина', 'магазин', 'звонить', 'писать',\n",
    "                  'очень', 'абсолютно', 'назад', 'использоваться', 'практически', 'возможный',\n",
    "                 ]\n",
    "        resX = []\n",
    "        for otz in dictinar:\n",
    "            otiv = [word for word in otz if word not in stop]\n",
    "            otiv = [word for word in otiv if not word.isnumeric()]\n",
    "            otiv = ' '.join(otiv)\n",
    "            otiv = lemma.lemmatize(otiv)\n",
    "            otiv = [word for word in otiv if word not in ['\\n']]\n",
    "            otiv = ''.join(otiv)\n",
    "            resX.append(otiv)\n",
    "        print('Сompleted ({:.2f} sec)'.format(time.monotonic() - start_time))\n",
    "        \n",
    "        return resX   \n",
    "\n",
    "        \n",
    "    def make_x_y(self, dfr, level=0, prev_predict=None, percentage=0.8):\n",
    "        \"\"\"\n",
    "        Разбивает датасет на тестовую и обучающую части\n",
    "        и добавляет к предиторам результаты работы модели на предыдущем уровне\n",
    "        (в случае не корневого уровня)\n",
    "        \"\"\"\n",
    "        X,Y = (dfr['text'], dfr[level])\n",
    "        #добавление категорий предыдущего уровня\n",
    "        if not (prev_predict is None):\n",
    "            prev_predict = self.encoders[level-1].inverse_transform(prev_predict)\n",
    "            X = X.apply(lambda x: x+' ') + pd.Series(prev_predict).astype('str')\n",
    "            \n",
    "        p = int(len(X) * percentage)\n",
    "        \n",
    "        x_train = X[:p]\n",
    "        x_test = X[p:]\n",
    "        \n",
    "        y_train = Y[:p]\n",
    "        y_test = Y[p:]\n",
    "        \n",
    "        self.tv[level].fit(x_train)\n",
    "        x_train = self.tv[level].transform(x_train)\n",
    "        x_test = self.tv[level].transform(x_test)\n",
    "        \n",
    "        return x_train, y_train, x_test, y_test\n",
    "    \n",
    "    \n",
    "    def fit(self, data):\n",
    "        \"\"\"\n",
    "        Функция для обучения моделей\n",
    "        pred - результат работы модели на предыдущем уровне\n",
    "        \"\"\"\n",
    "        pred = None\n",
    "        data['text'] = self.preproc(data['text'])\n",
    "        for i in range(4):\n",
    "            x_train, y_train, x_test, y_test = self.make_x_y(data, i, pred)\n",
    "            self.model[i].fit(x_train, y_train)\n",
    "            pred = np.append(self.model[i].predict(x_train), self.model[i].predict(x_test))\n",
    "            print('Train accuracy on level',i,':', self.model[i].score(x_train, y_train),\n",
    "                  'Test accuracy on level',i,':', self.model[i].score(x_test, y_test))\n",
    "    \n",
    "    \n",
    "    def predict(self, X):\n",
    "        \n",
    "        prev_predict = []\n",
    "        pred = []\n",
    "        \n",
    "        X = self.preproc(X)\n",
    "        \n",
    "        for i in range(4):\n",
    "            #добавление категорий предыдущего уровня\n",
    "            print(\"Уровень {0} обработан\".format(i))\n",
    "            if len(pred) > 0:\n",
    "                prev_predict = self.encoders[i-1].inverse_transform(pred[i-1])\n",
    "                X = pd.Series(X).apply(lambda x: x+' ') \n",
    "                X += pd.Series(prev_predict).astype('str')\n",
    "            #использование модели\n",
    "            X_vect = self.tv[i].transform(X)\n",
    "            lvl_predict = self.model[i].predict(X_vect)\n",
    "            pred.append(lvl_predict)\n",
    "        #преобразование номеров категорий в строки\n",
    "        for i in range(4):\n",
    "            pred[i] = self.encoders[i].inverse_transform(pred[i])\n",
    "            \n",
    "        return pred"
   ]
  },
  {
   "cell_type": "code",
   "execution_count": 7,
   "metadata": {},
   "outputs": [],
   "source": [
    "classifier = HierarchyClassifier(encoders=le)"
   ]
  },
  {
   "cell_type": "markdown",
   "metadata": {},
   "source": [
    "Обучение классфикатора"
   ]
  },
  {
   "cell_type": "code",
   "execution_count": 8,
   "metadata": {},
   "outputs": [
    {
     "name": "stdout",
     "output_type": "stream",
     "text": [
      "Сompleted (130.54 sec)\n"
     ]
    },
    {
     "name": "stderr",
     "output_type": "stream",
     "text": [
      "/home/john/anaconda3/envs/avito/lib/python3.6/site-packages/sklearn/linear_model/stochastic_gradient.py:166: FutureWarning: max_iter and tol parameters have been added in SGDClassifier in 0.19. If both are left unset, they default to max_iter=5 and tol=None. If tol is not None, max_iter defaults to max_iter=1000. From 0.21, default max_iter will be 1000, and default tol will be 1e-3.\n",
      "  FutureWarning)\n"
     ]
    },
    {
     "name": "stdout",
     "output_type": "stream",
     "text": [
      "Train accuracy on level 0 : 0.998675 Test accuracy on level 0 : 0.9518\n",
      "Train accuracy on level 1 : 0.998175 Test accuracy on level 1 : 0.9273\n",
      "Train accuracy on level 2 : 0.993775 Test accuracy on level 2 : 0.8712\n",
      "Train accuracy on level 3 : 0.99865 Test accuracy on level 3 : 0.97375\n"
     ]
    }
   ],
   "source": [
    "classifier.fit(df)"
   ]
  },
  {
   "cell_type": "markdown",
   "metadata": {},
   "source": [
    "Загружаем тестовую выборку и делаем предсказания"
   ]
  },
  {
   "cell_type": "code",
   "execution_count": 10,
   "metadata": {},
   "outputs": [],
   "source": [
    "df_test = pd.read_csv('./data/test.csv', index_col='item_id')\n",
    "df_test = df_test.rename(columns={'description':'text'})\n",
    "\n",
    "df_test['text'] = (df_test['title'] + ' ') * 2 + df_test['text']\n",
    "df_test = df_test.drop(['title'], axis=1)"
   ]
  },
  {
   "cell_type": "code",
   "execution_count": 45,
   "metadata": {},
   "outputs": [
    {
     "name": "stdout",
     "output_type": "stream",
     "text": [
      "Сompleted (12.74 sec)\n",
      "Уровень 0 обработан\n",
      "Уровень 1 обработан\n",
      "Уровень 2 обработан\n",
      "Уровень 3 обработан\n"
     ]
    }
   ],
   "source": [
    "predicts = classifier.predict(df_test['text'])"
   ]
  },
  {
   "cell_type": "markdown",
   "metadata": {},
   "source": [
    "Точность модели:  \n",
    "Train accuracy on level 0 : 0.998675 Test accuracy on level 0 : 0.9518  \n",
    "Train accuracy on level 1 : 0.998175 Test accuracy on level 1 : 0.9273  \n",
    "Train accuracy on level 2 : 0.993775 Test accuracy on level 2 : 0.8712  \n",
    "Train accuracy on level 3 : 0.99865 Test accuracy on level 3 : 0.97375"
   ]
  },
  {
   "cell_type": "code",
   "execution_count": null,
   "metadata": {},
   "outputs": [],
   "source": []
  }
 ],
 "metadata": {
  "kernelspec": {
   "display_name": "Python 3",
   "language": "python",
   "name": "python3"
  },
  "language_info": {
   "codemirror_mode": {
    "name": "ipython",
    "version": 3
   },
   "file_extension": ".py",
   "mimetype": "text/x-python",
   "name": "python",
   "nbconvert_exporter": "python",
   "pygments_lexer": "ipython3",
   "version": "3.6.8"
  }
 },
 "nbformat": 4,
 "nbformat_minor": 2
}
